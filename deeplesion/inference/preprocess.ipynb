{
 "cells": [
  {
   "cell_type": "code",
   "execution_count": 6,
   "id": "cafc3ee1-29eb-4f95-850a-75690053a466",
   "metadata": {},
   "outputs": [
    {
     "name": "stderr",
     "output_type": "stream",
     "text": [
      "/gpfs/space/home/fordui/ml_project/.venv/lib/python3.10/site-packages/tqdm/auto.py:22: TqdmWarning: IProgress not found. Please update jupyter and ipywidgets. See https://ipywidgets.readthedocs.io/en/stable/user_install.html\n",
      "  from .autonotebook import tqdm as notebook_tqdm\n"
     ]
    }
   ],
   "source": [
    "import pandas as pd\n",
    "import os\n",
    "import SimpleITK as sitk\n",
    "from tqdm.auto import tqdm"
   ]
  },
  {
   "cell_type": "code",
   "execution_count": 7,
   "id": "add1a9a2-9f3c-48f2-b104-52525a17011c",
   "metadata": {},
   "outputs": [
    {
     "name": "stderr",
     "output_type": "stream",
     "text": [
      "8it [00:09,  1.14s/it]\n",
      "\n",
      "KeyboardInterrupt\n",
      "\n"
     ]
    }
   ],
   "source": [
    "with os.scandir(\"/gpfs/space/projects/stud_ml_22/deeplesion/images/Images_nifti\") as it:\n",
    "    for entry in tqdm(it, total=520):\n",
    "        if entry.name.endswith(\".nii.gz\") and entry.is_file():\n",
    "            img = sitk.ReadImage(entry.path)\n",
    "            img2 = sitk.PermuteAxes(img, [2, 0, 1])\n",
    "            sitk.WriteImage(img2, \"/gpfs/space/projects/stud_ml_22/deeplesion/images_processed/DL_\" + str(entry.name).split('.')[0] + \"_processed.nii.gz\")\n",
    "            # print(entry.name, entry.path)"
   ]
  },
  {
   "cell_type": "code",
   "execution_count": null,
   "id": "277eb444-2f49-4922-ad6d-55820af0224f",
   "metadata": {},
   "outputs": [],
   "source": []
  }
 ],
 "metadata": {
  "kernelspec": {
   "display_name": "nnunet_env",
   "language": "python",
   "name": "nnunet_env"
  },
  "language_info": {
   "codemirror_mode": {
    "name": "ipython",
    "version": 3
   },
   "file_extension": ".py",
   "mimetype": "text/x-python",
   "name": "python",
   "nbconvert_exporter": "python",
   "pygments_lexer": "ipython3",
   "version": "3.10.1"
  }
 },
 "nbformat": 4,
 "nbformat_minor": 5
}
